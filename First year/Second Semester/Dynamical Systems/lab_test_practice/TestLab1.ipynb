{
 "cells": [
  {
   "cell_type": "code",
   "execution_count": null,
   "metadata": {},
   "outputs": [],
   "source": [
    "import numpy as np\n",
    "import matplotlib.pyplot as plt\n",
    "from sympy import symbols, Function, Eq, diff, solve, pi, sqrt, lambdify\n",
    "\n",
    "# Define the variables and function\n",
    "x = symbols('x')\n",
    "A, B, C = symbols('A B C')\n",
    "\n",
    "# Define the assumed particular solution form\n",
    "u_p = A*x**2 + B*x + C\n",
    "\n",
    "# Define the differential equation and substitute the particular solution\n",
    "diff_eq = Eq(diff(u_p, x, x) + 5*diff(u_p, x) - 7*u_p, x**2 + 5*x - 7)\n",
    "\n",
    "# Solve for A, B, C\n",
    "particular_solution = solve(diff_eq, (A, B, C))\n",
    "\n",
    "# Substitute back the values of A, B, C\n",
    "u_p = u_p.subs(particular_solution)\n",
    "\n",
    "# Now add the homogeneous solution part\n",
    "C1, C2 = symbols('C1 C2')\n",
    "homogeneous_solution = C1 * exp((5 + sqrt(53)) * x / 2) + C2 * exp((5 - sqrt(53)) * x / 2)\n",
    "u_sol = u_p + homogeneous_solution\n",
    "\n",
    "# For simplicity, assume C1 = 0 and C2 = 0 to get a particular polynomial solution\n",
    "u_sol = u_p\n",
    "\n",
    "# Compute the first derivative of the solution\n",
    "u_prime = diff(u_sol, x)\n",
    "\n",
    "# Create lambdified functions for numerical evaluation\n",
    "u_sol_func = lambdify(x, u_sol, 'numpy')\n",
    "u_prime_func = lambdify(x, u_prime, 'numpy')\n",
    "\n",
    "# Evaluate the solution and its derivative at x = pi*sqrt(2)\n",
    "value_at_pi_sqrt2 = u_sol_func(pi * np.sqrt(2))\n",
    "value_at_pi_sqrt2_prime = u_prime_func(pi * np.sqrt(2))\n",
    "\n",
    "# Prepare the data for plotting\n",
    "x_vals = np.linspace(-10, 5, 400)\n",
    "u_vals = u_sol_func(x_vals)\n",
    "u_prime_vals = u_prime_func(x_vals)\n",
    "\n",
    "# Plot the solution and its derivative\n",
    "plt.figure(figsize=(10, 6))\n",
    "plt.plot(x_vals, u_vals, label='u(x)', color='blue')\n",
    "plt.plot(x_vals, u_prime_vals, label=\"u'(x)\", color='red')\n",
    "plt.xlabel('x')\n",
    "plt.ylabel('y')\n",
    "plt.legend()\n",
    "plt.title('Solution and its Derivative')\n",
    "plt.grid(True)\n",
    "plt.show()\n",
    "\n",
    "value_at_pi_sqrt2, value_at_pi_sqrt2_prime"
   ]
  },
  {
   "cell_type": "code",
   "execution_count": null,
   "metadata": {},
   "outputs": [],
   "source": []
  }
 ],
 "metadata": {
  "kernelspec": {
   "display_name": "SageMath 9.2",
   "language": "sage",
   "name": "sagemath"
  },
  "language_info": {
   "codemirror_mode": {
    "name": "ipython",
    "version": 3
   },
   "file_extension": ".py",
   "mimetype": "text/x-python",
   "name": "python",
   "nbconvert_exporter": "python",
   "pygments_lexer": "ipython3",
   "version": "3.7.7"
  }
 },
 "nbformat": 4,
 "nbformat_minor": 4
}
