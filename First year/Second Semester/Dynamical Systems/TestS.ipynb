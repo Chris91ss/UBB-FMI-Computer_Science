{
 "cells": [
  {
   "cell_type": "code",
   "execution_count": 1,
   "metadata": {},
   "outputs": [
    {
     "data": {
      "text/html": [
       "<html><script type=\"math/tex; mode=display\">\\newcommand{\\Bold}[1]{\\mathbf{#1}}\\arctan\\left(y\\left(t\\right)\\right) = \\frac{1}{4} \\, \\pi + t</script></html>"
      ],
      "text/latex": [
       "$$\\newcommand{\\Bold}[1]{\\mathbf{#1}}\\arctan\\left(y\\left(t\\right)\\right) = \\frac{1}{4} \\, \\pi + t$$"
      ],
      "text/plain": [
       "arctan(y(t)) == 1/4*pi + t"
      ]
     },
     "metadata": {},
     "output_type": "display_data"
    },
    {
     "data": {
      "text/html": [
       "<html><script type=\"math/tex; mode=display\">\\newcommand{\\Bold}[1]{\\mathbf{#1}}y\\left(t\\right) = \\tan\\left(\\frac{1}{4} \\, \\pi + t\\right)</script></html>"
      ],
      "text/latex": [
       "$$\\newcommand{\\Bold}[1]{\\mathbf{#1}}y\\left(t\\right) = \\tan\\left(\\frac{1}{4} \\, \\pi + t\\right)$$"
      ],
      "text/plain": [
       "y(t) == tan(1/4*pi + t)"
      ]
     },
     "metadata": {},
     "output_type": "display_data"
    }
   ],
   "source": [
    "# Exercise 1\n",
    "t = var('t')\n",
    "y = function('y')(t)\n",
    "\n",
    "eq = diff(y, t) == 1 + y^2\n",
    "sol = desolve(eq, y, ics=[0, 1])\n",
    "show(sol)\n",
    "\n",
    "# if arctan(y(x)) = 1 / 4 * pi + t =>\n",
    "# y(x) = tan(1  / 4 * pi + t)\n",
    "show(y == tan(1 / 4 * pi + t))"
   ]
  },
  {
   "cell_type": "code",
   "execution_count": 2,
   "metadata": {},
   "outputs": [
    {
     "data": {
      "text/html": [
       "<html><script type=\"math/tex; mode=display\">\\newcommand{\\Bold}[1]{\\mathbf{#1}}2.72605020895827</script></html>"
      ],
      "text/latex": [
       "$$\\newcommand{\\Bold}[1]{\\mathbf{#1}}2.72605020895827$$"
      ],
      "text/plain": [
       "2.72605020895827"
      ]
     },
     "metadata": {},
     "output_type": "display_data"
    },
    {
     "data": {
      "text/html": [
       "<html><script type=\"math/tex; mode=display\">\\newcommand{\\Bold}[1]{\\mathbf{#1}}3.40822344233583</script></html>"
      ],
      "text/latex": [
       "$$\\newcommand{\\Bold}[1]{\\mathbf{#1}}3.40822344233583$$"
      ],
      "text/plain": [
       "3.40822344233583"
      ]
     },
     "metadata": {},
     "output_type": "display_data"
    },
    {
     "data": {
      "image/png": "[encoded data removed]",
      "text/plain": [
       "Graphics object consisting of 2 graphics primitives"
      ]
     },
     "metadata": {},
     "output_type": "display_data"
    }
   ],
   "source": [
    "from sage.plot.line import Line\n",
    "\n",
    "def f(x):\n",
    "    return 1 + x^2\n",
    "\n",
    "n = 5\n",
    "h = 0.1\n",
    "\n",
    "x = zero_vector(RR, n + 1)\n",
    "y = zero_vector(RR, n + 1)\n",
    "y_good = zero_vector(RR, n + 1)\n",
    "\n",
    "x[0] = 0\n",
    "y[0] = 1\n",
    "y_good[0] = tan(1 / 4 * pi)\n",
    "for k in range(1, n + 1):\n",
    "    x[k] = x[k - 1] + h\n",
    "    y[k] = y[k - 1] + h * f(y[k - 1])\n",
    "    y_good[k] = tan(1 / 4 * pi + x[k])\n",
    "    \n",
    "show(y[n])\n",
    "show(y_good[n])\n",
    "\n",
    "line_2 = line(Line(range(n + 1), y_good, {}), marker='o', color='blue')\n",
    "line_1 = line(Line(range(n + 1), y, {}), marker='o', color='red')\n",
    "\n",
    "show(line_1 + line_2)"
   ]
  },
  {
   "cell_type": "code",
   "execution_count": 3,
   "metadata": {},
   "outputs": [
    {
     "data": {
      "text/html": [
       "<html><script type=\"math/tex; mode=display\">\\newcommand{\\Bold}[1]{\\mathbf{#1}}\\left(\\begin{array}{rr}\n",
       "1.00000000000000 & 0.800000000000000 \\\\\n",
       "0.000000000000000 & 0.360000000000000\n",
       "\\end{array}\\right)</script></html>"
      ],
      "text/latex": [
       "$$\\newcommand{\\Bold}[1]{\\mathbf{#1}}\\left(\\begin{array}{rr}\n",
       "1.00000000000000 & 0.800000000000000 \\\\\n",
       "0.000000000000000 & 0.360000000000000\n",
       "\\end{array}\\right)$$"
      ],
      "text/plain": [
       "[ 1.00000000000000 0.800000000000000]\n",
       "[0.000000000000000 0.360000000000000]"
      ]
     },
     "metadata": {},
     "output_type": "display_data"
    },
    {
     "data": {
      "text/html": [
       "<html><script type=\"math/tex; mode=display\">\\newcommand{\\Bold}[1]{\\mathbf{#1}}\\left(\\begin{array}{rr}\n",
       "1.00000000000000 & 0.980000000000000 \\\\\n",
       "0.000000000000000 & 0.216000000000000\n",
       "\\end{array}\\right)</script></html>"
      ],
      "text/latex": [
       "$$\\newcommand{\\Bold}[1]{\\mathbf{#1}}\\left(\\begin{array}{rr}\n",
       "1.00000000000000 & 0.980000000000000 \\\\\n",
       "0.000000000000000 & 0.216000000000000\n",
       "\\end{array}\\right)$$"
      ],
      "text/plain": [
       "[ 1.00000000000000 0.980000000000000]\n",
       "[0.000000000000000 0.216000000000000]"
      ]
     },
     "metadata": {},
     "output_type": "display_data"
    },
    {
     "data": {
      "text/html": [
       "Aproaching infinity:"
      ],
      "text/plain": [
       "'Aproaching infinity:'"
      ]
     },
     "metadata": {},
     "output_type": "display_data"
    },
    {
     "data": {
      "text/html": [
       "<html><script type=\"math/tex; mode=display\">\\newcommand{\\Bold}[1]{\\mathbf{#1}}\\left(\\begin{array}{rr}\n",
       "1.00000000000000 & 1.25000000000000 \\\\\n",
       "0.000000000000000 & 6.86177091222954 \\times 10^{-2218487497}\n",
       "\\end{array}\\right)</script></html>"
      ],
      "text/latex": [
       "$$\\newcommand{\\Bold}[1]{\\mathbf{#1}}\\left(\\begin{array}{rr}\n",
       "1.00000000000000 & 1.25000000000000 \\\\\n",
       "0.000000000000000 & 6.86177091222954 \\times 10^{-2218487497}\n",
       "\\end{array}\\right)$$"
      ],
      "text/plain": [
       "[            1.00000000000000             1.25000000000000]\n",
       "[           0.000000000000000 6.86177091222954e-2218487497]"
      ]
     },
     "metadata": {},
     "output_type": "display_data"
    },
    {
     "data": {
      "text/html": [
       "<html><script type=\"math/tex; mode=display\">\\newcommand{\\Bold}[1]{\\mathbf{#1}}\\left(\\begin{array}{rr}\n",
       "1.00000000000000 & 1.25000000000000 \\\\\n",
       "0.000000000000000 & 4.18269613252381 \\times 10^{-221848749616357}\n",
       "\\end{array}\\right)</script></html>"
      ],
      "text/latex": [
       "$$\\newcommand{\\Bold}[1]{\\mathbf{#1}}\\left(\\begin{array}{rr}\n",
       "1.00000000000000 & 1.25000000000000 \\\\\n",
       "0.000000000000000 & 4.18269613252381 \\times 10^{-221848749616357}\n",
       "\\end{array}\\right)$$"
      ],
      "text/plain": [
       "[                 1.00000000000000                  1.25000000000000]\n",
       "[                0.000000000000000 4.18269613252381e-221848749616357]"
      ]
     },
     "metadata": {},
     "output_type": "display_data"
    }
   ],
   "source": [
    "# Exercise 2\n",
    "A = matrix([[1, 1 / 2], [0, 0.6]])\n",
    "\n",
    "def f(n):\n",
    "    return A^n\n",
    "\n",
    "show(f(2))\n",
    "show(f(3))\n",
    "\n",
    "show('Aproaching infinity:')\n",
    "show(f(10^10))\n",
    "show(f(10 ^ 15))"
   ]
  },
  {
   "cell_type": "code",
   "execution_count": 4,
   "metadata": {},
   "outputs": [
    {
     "data": {
      "text/html": [
       "<html><script type=\"math/tex; mode=display\">\\newcommand{\\Bold}[1]{\\mathbf{#1}}t^{3} - 6 \\, t + 10 \\, \\sin\\left(t\\right)</script></html>"
      ],
      "text/latex": [
       "$$\\newcommand{\\Bold}[1]{\\mathbf{#1}}t^{3} - 6 \\, t + 10 \\, \\sin\\left(t\\right)$$"
      ],
      "text/plain": [
       "t^3 - 6*t + 10*sin(t)"
      ]
     },
     "metadata": {},
     "output_type": "display_data"
    },
    {
     "data": {
      "image/png": "[encoded data removed]",
      "text/plain": [
       "Graphics object consisting of 1 graphics primitive"
      ]
     },
     "metadata": {},
     "output_type": "display_data"
    }
   ],
   "source": [
    "# Exercise 3\n",
    "\n",
    "t = var('t')\n",
    "x = function('x')(t)\n",
    "\n",
    "eq = diff(x, t, 2) + x == t^3\n",
    "sol = desolve(eq, x, ics=[0, 0, 4])\n",
    "\n",
    "show(sol)\n",
    "show(plot(sol, -10, 10))"
   ]
  },
  {
   "cell_type": "code",
   "execution_count": 5,
   "metadata": {},
   "outputs": [
    {
     "data": {
      "text/html": [
       "<html><script type=\"math/tex; mode=display\">\\newcommand{\\Bold}[1]{\\mathbf{#1}}\\left[x\\left(t\\right) = -\\frac{1}{3} \\, \\sqrt{6} \\sinh\\left(\\sqrt{6} t\\right) y\\left(0\\right) + \\cosh\\left(\\sqrt{6} t\\right) x\\left(0\\right), y\\left(t\\right) = -\\frac{1}{2} \\, \\sqrt{6} \\sinh\\left(\\sqrt{6} t\\right) x\\left(0\\right) + \\cosh\\left(\\sqrt{6} t\\right) y\\left(0\\right)\\right]</script></html>"
      ],
      "text/latex": [
       "$$\\newcommand{\\Bold}[1]{\\mathbf{#1}}\\left[x\\left(t\\right) = -\\frac{1}{3} \\, \\sqrt{6} \\sinh\\left(\\sqrt{6} t\\right) y\\left(0\\right) + \\cosh\\left(\\sqrt{6} t\\right) x\\left(0\\right), y\\left(t\\right) = -\\frac{1}{2} \\, \\sqrt{6} \\sinh\\left(\\sqrt{6} t\\right) x\\left(0\\right) + \\cosh\\left(\\sqrt{6} t\\right) y\\left(0\\right)\\right]$$"
      ],
      "text/plain": [
       "[x(t) == -1/3*sqrt(6)*sinh(sqrt(6)*t)*y(0) + cosh(sqrt(6)*t)*x(0),\n",
       " y(t) == -1/2*sqrt(6)*sinh(sqrt(6)*t)*x(0) + cosh(sqrt(6)*t)*y(0)]"
      ]
     },
     "metadata": {},
     "output_type": "display_data"
    }
   ],
   "source": [
    "# Exercise 4\n",
    "t = var('t')\n",
    "x = function('x')(t)\n",
    "y = function('y')(t)\n",
    "\n",
    "eq_1 = diff(x, t) == -2 * y\n",
    "eq_2 = diff(y, t) == -3 * x\n",
    "syst = [eq_1, eq_2]\n",
    "\n",
    "sol = desolve_system(syst, [x, y])\n",
    "show(sol)"
   ]
  }
 ],
 "metadata": {
  "kernelspec": {
   "display_name": "SageMath 9.3",
   "language": "sage",
   "name": "sagemath"
  },
  "language_info": {
   "codemirror_mode": {
    "name": "ipython",
    "version": 3
   },
   "file_extension": ".py",
   "mimetype": "text/x-python",
   "name": "python",
   "nbconvert_exporter": "python",
   "pygments_lexer": "ipython3",
   "version": "3.7.10"
  }
 },
 "nbformat": 4,
 "nbformat_minor": 4
}
