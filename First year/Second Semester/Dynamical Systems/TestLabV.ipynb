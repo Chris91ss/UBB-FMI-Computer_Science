{
 "cells": [
  {
   "cell_type": "code",
   "execution_count": 6,
   "metadata": {},
   "outputs": [
    {
     "data": {
      "text/html": [
       "<html><script type=\"math/tex; mode=display\">\\newcommand{\\Bold}[1]{\\mathbf{#1}}0.747 + 8.29 \\times 10^{-15}i</script></html>"
      ],
      "text/latex": [
       "$$\\newcommand{\\Bold}[1]{\\mathbf{#1}}0.747 + 8.29 \\times 10^{-15}i$$"
      ],
      "text/plain": [
       "0.747 + 8.29e-15*I"
      ]
     },
     "metadata": {},
     "output_type": "display_data"
    }
   ],
   "source": [
    "# Exercise 1\n",
    "t = var('t')\n",
    "\n",
    "integral = numerical_approx(integral_numerical(exp(-(t^2)), 0, 1), digits=3)\n",
    "show(integral)"
   ]
  },
  {
   "cell_type": "code",
   "execution_count": 10,
   "metadata": {},
   "outputs": [
    {
     "data": {
      "text/html": [
       "<html><script type=\"math/tex; mode=display\">\\newcommand{\\Bold}[1]{\\mathbf{#1}}\\left(\\begin{array}{rrrr}\n",
       "0.500 & -0.667 & -0.333 & -0.500 \\\\\n",
       "0.312 & -0.208 & -0.292 & -0.438 \\\\\n",
       "0.188 & -0.125 & -0.375 & -0.0625 \\\\\n",
       "-0.750 & 0.833 & 1.17 & 1.25\n",
       "\\end{array}\\right)</script></html>"
      ],
      "text/latex": [
       "$$\\newcommand{\\Bold}[1]{\\mathbf{#1}}\\left(\\begin{array}{rrrr}\n",
       "0.500 & -0.667 & -0.333 & -0.500 \\\\\n",
       "0.312 & -0.208 & -0.292 & -0.438 \\\\\n",
       "0.188 & -0.125 & -0.375 & -0.0625 \\\\\n",
       "-0.750 & 0.833 & 1.17 & 1.25\n",
       "\\end{array}\\right)$$"
      ],
      "text/plain": [
       "[  0.500  -0.667  -0.333  -0.500]\n",
       "[  0.312  -0.208  -0.292  -0.438]\n",
       "[  0.188  -0.125  -0.375 -0.0625]\n",
       "[ -0.750   0.833    1.17    1.25]"
      ]
     },
     "metadata": {},
     "output_type": "display_data"
    }
   ],
   "source": [
    "# Exercise 2\n",
    "A = matrix([[1, 7, 3, 3], [-2, 5, 1, 1], [1, 2, -2, 1], [1, -1, 3, 1]])\n",
    "show(numerical_approx(A^(-1), digits=3))"
   ]
  },
  {
   "cell_type": "code",
   "execution_count": 11,
   "metadata": {},
   "outputs": [
    {
     "data": {
      "text/html": [
       "<html><script type=\"math/tex; mode=display\">\\newcommand{\\Bold}[1]{\\mathbf{#1}}-\\frac{1}{2 \\, {\\left(u\\left(t\\right) - 1\\right)}} = \\frac{1}{2} \\, t^{2} + \\frac{1}{2}</script></html>"
      ],
      "text/latex": [
       "$$\\newcommand{\\Bold}[1]{\\mathbf{#1}}-\\frac{1}{2 \\, {\\left(u\\left(t\\right) - 1\\right)}} = \\frac{1}{2} \\, t^{2} + \\frac{1}{2}$$"
      ],
      "text/plain": [
       "-1/2/(u(t) - 1) == 1/2*t^2 + 1/2"
      ]
     },
     "metadata": {},
     "output_type": "display_data"
    },
    {
     "data": {
      "text/html": [
       "<html><script type=\"math/tex; mode=display\">\\newcommand{\\Bold}[1]{\\mathbf{#1}}\\lim_{t \\to +\\infty}\\, -\\frac{1}{2 \\, {\\left(u\\left(t\\right) - 1\\right)}} = +\\infty</script></html>"
      ],
      "text/latex": [
       "$$\\newcommand{\\Bold}[1]{\\mathbf{#1}}\\lim_{t \\to +\\infty}\\, -\\frac{1}{2 \\, {\\left(u\\left(t\\right) - 1\\right)}} = +\\infty$$"
      ],
      "text/plain": [
       "limit(-1/2/(u(t) - 1), t, +Infinity) == +Infinity"
      ]
     },
     "metadata": {},
     "output_type": "display_data"
    }
   ],
   "source": [
    "# Exercise 3\n",
    "t = var('t')\n",
    "u = function('u')(t)\n",
    "\n",
    "eq = diff(u, t) == 2 * t * (1 - u)^2\n",
    "sol = desolve(eq, u, ics=[0, 0])\n",
    "show(sol)\n",
    "\n",
    "show(limit(sol, t=infinity))"
   ]
  },
  {
   "cell_type": "code",
   "execution_count": 1,
   "metadata": {},
   "outputs": [
    {
     "data": {
      "text/html": [
       "<html><script type=\"math/tex; mode=display\">\\newcommand{\\Bold}[1]{\\mathbf{#1}}\\left[x\\left(t\\right) = \\mathcal{L}^{-1}\\left(\\frac{2 \\, {\\left(g_{1613} {\\left(\\mathcal{L}\\left(x\\left(t\\right)^{2} y\\left(t\\right), t, g_{1613}\\right) + 1\\right)} + 1\\right)}}{2 \\, g_{1613}^{2} + 7 \\, g_{1613}}, g_{1613}, t\\right), y\\left(t\\right) = \\mathcal{L}^{-1}\\left(-\\frac{2 \\, g_{1613}^{2} \\mathcal{L}\\left(x\\left(t\\right)^{2} y\\left(t\\right), t, g_{1613}\\right) + g_{1613} {\\left(2 \\, \\mathcal{L}\\left(x\\left(t\\right)^{2} y\\left(t\\right), t, g_{1613}\\right) - 5\\right)} - 5}{2 \\, g_{1613}^{3} + 7 \\, g_{1613}^{2}}, g_{1613}, t\\right)\\right]</script></html>"
      ],
      "text/latex": [
       "$$\\newcommand{\\Bold}[1]{\\mathbf{#1}}\\left[x\\left(t\\right) = \\mathcal{L}^{-1}\\left(\\frac{2 \\, {\\left(g_{1613} {\\left(\\mathcal{L}\\left(x\\left(t\\right)^{2} y\\left(t\\right), t, g_{1613}\\right) + 1\\right)} + 1\\right)}}{2 \\, g_{1613}^{2} + 7 \\, g_{1613}}, g_{1613}, t\\right), y\\left(t\\right) = \\mathcal{L}^{-1}\\left(-\\frac{2 \\, g_{1613}^{2} \\mathcal{L}\\left(x\\left(t\\right)^{2} y\\left(t\\right), t, g_{1613}\\right) + g_{1613} {\\left(2 \\, \\mathcal{L}\\left(x\\left(t\\right)^{2} y\\left(t\\right), t, g_{1613}\\right) - 5\\right)} - 5}{2 \\, g_{1613}^{3} + 7 \\, g_{1613}^{2}}, g_{1613}, t\\right)\\right]$$"
      ],
      "text/plain": [
       "[x(t) == ilt(2*(g1613*(laplace(x(t)^2*y(t), t, g1613) + 1) + 1)/(2*g1613^2 + 7*g1613), g1613, t),\n",
       " y(t) == ilt(-(2*g1613^2*laplace(x(t)^2*y(t), t, g1613) + g1613*(2*laplace(x(t)^2*y(t), t, g1613) - 5) - 5)/(2*g1613^3 + 7*g1613^2), g1613, t)]"
      ]
     },
     "metadata": {},
     "output_type": "display_data"
    },
    {
     "data": {
      "text/html": [
       "<html><script type=\"math/tex; mode=display\">\\newcommand{\\Bold}[1]{\\mathbf{#1}}\\left[x\\left(t\\right) = \\mathcal{L}^{-1}\\left(\\frac{g_{1787} {\\left(2 \\, \\mathcal{L}\\left(x\\left(t\\right)^{2} y\\left(t\\right), t, g_{1787}\\right) + 3\\right)} + 2}{2 \\, g_{1787}^{2} + 7 \\, g_{1787}}, g_{1787}, t\\right), y\\left(t\\right) = \\mathcal{L}^{-1}\\left(-\\frac{4 \\, g_{1787}^{2} {\\left(\\mathcal{L}\\left(x\\left(t\\right)^{2} y\\left(t\\right), t, g_{1787}\\right) - 2\\right)} + g_{1787} {\\left(4 \\, \\mathcal{L}\\left(x\\left(t\\right)^{2} y\\left(t\\right), t, g_{1787}\\right) - 43\\right)} - 10}{2 \\, {\\left(2 \\, g_{1787}^{3} + 7 \\, g_{1787}^{2}\\right)}}, g_{1787}, t\\right)\\right]</script></html>"
      ],
      "text/latex": [
       "$$\\newcommand{\\Bold}[1]{\\mathbf{#1}}\\left[x\\left(t\\right) = \\mathcal{L}^{-1}\\left(\\frac{g_{1787} {\\left(2 \\, \\mathcal{L}\\left(x\\left(t\\right)^{2} y\\left(t\\right), t, g_{1787}\\right) + 3\\right)} + 2}{2 \\, g_{1787}^{2} + 7 \\, g_{1787}}, g_{1787}, t\\right), y\\left(t\\right) = \\mathcal{L}^{-1}\\left(-\\frac{4 \\, g_{1787}^{2} {\\left(\\mathcal{L}\\left(x\\left(t\\right)^{2} y\\left(t\\right), t, g_{1787}\\right) - 2\\right)} + g_{1787} {\\left(4 \\, \\mathcal{L}\\left(x\\left(t\\right)^{2} y\\left(t\\right), t, g_{1787}\\right) - 43\\right)} - 10}{2 \\, {\\left(2 \\, g_{1787}^{3} + 7 \\, g_{1787}^{2}\\right)}}, g_{1787}, t\\right)\\right]$$"
      ],
      "text/plain": [
       "[x(t) == ilt((g1787*(2*laplace(x(t)^2*y(t), t, g1787) + 3) + 2)/(2*g1787^2 + 7*g1787), g1787, t),\n",
       " y(t) == ilt(-1/2*(4*g1787^2*(laplace(x(t)^2*y(t), t, g1787) - 2) + g1787*(4*laplace(x(t)^2*y(t), t, g1787) - 43) - 10)/(2*g1787^3 + 7*g1787^2), g1787, t)]"
      ]
     },
     "metadata": {},
     "output_type": "display_data"
    }
   ],
   "source": [
    "# Exercise 4\n",
    "t = var('t')\n",
    "x = function('x')(t)\n",
    "y = function('y')(t)\n",
    "\n",
    "A = 1\n",
    "B = 2.5\n",
    "\n",
    "eq_1 = diff(x, t) == A + x^2 * y - B * x - x\n",
    "eq_2 = diff(y, t) == B * x - x^2 * y\n",
    "syst = [eq_1, eq_2]\n",
    "\n",
    "sol_1 = desolve_system(syst, [x, y], ics=[0, 1, 0])\n",
    "show(sol_1)\n",
    "\n",
    "sol_2 = desolve_system(syst, [x, y], ics=[0, 1.5, 2])\n",
    "show(sol_2)\n"
   ]
  }
 ],
 "metadata": {
  "kernelspec": {
   "display_name": "SageMath 9.3",
   "language": "sage",
   "name": "sagemath"
  },
  "language_info": {
   "codemirror_mode": {
    "name": "ipython",
    "version": 3
   },
   "file_extension": ".py",
   "mimetype": "text/x-python",
   "name": "python",
   "nbconvert_exporter": "python",
   "pygments_lexer": "ipython3",
   "version": "3.7.10"
  }
 },
 "nbformat": 4,
 "nbformat_minor": 4
}
