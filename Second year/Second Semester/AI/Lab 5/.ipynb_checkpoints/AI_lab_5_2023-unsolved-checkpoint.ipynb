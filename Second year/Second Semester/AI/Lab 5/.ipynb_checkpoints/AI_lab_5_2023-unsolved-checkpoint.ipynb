{
 "cells": [
  {
   "cell_type": "markdown",
   "id": "b8210b19",
   "metadata": {},
   "source": [
    "## A.I. Assignment 5\n",
    "\n",
    "## Learning Goals\n",
    "\n",
    "By the end of this lab, you should be able to:\n",
    "* Get more familiar with tensors in pytorch \n",
    "* Create a simple multilayer perceptron model with pytorch\n",
    "* Visualise the parameters\n",
    "\n",
    "\n",
    "### Task\n",
    "\n",
    "Build a fully connected feed forward network that adds two bits. Determine the a propper achitecture for this network (what database you use for this problem? how many layers? how many neurons on each layer? what is the activation function? what is the loss function? etc)\n",
    "\n",
    "Create at least 3 such networks and compare their performance (how accurate they are?, how farst they are trained to get at 1 accuracy?)\n",
    "\n",
    "Display for the best one the weights for each layer.\n"
   ]
  },
  {
   "cell_type": "code",
   "execution_count": 45,
   "id": "e3614e5f",
   "metadata": {},
   "outputs": [],
   "source": [
    "import torch\n",
    "import torch.nn as nn\n",
    "from collections import OrderedDict"
   ]
  },
  {
   "cell_type": "code",
   "execution_count": 46,
   "id": "5ee7e7d7",
   "metadata": {},
   "outputs": [],
   "source": [
    "# your code here\n",
    "#model1 = nn.Sequential(OrderedDict([\n",
    "#    ('hidden', nn.\n",
    "#]))\n",
    "\n",
    "model1 = nn.Sequential(OrderedDict([\n",
    "    ('hidden1', nn.Linear(2, 4)),\n",
    "    ('relu1', nn.ReLU()),\n",
    "    ('output', nn.Linear(4, 1))\n",
    "]))\n",
    "\n",
    "model2 = nn.Sequential(OrderedDict([\n",
    "    ('hidden1', nn.Linear(2, 4)),\n",
    "    ('relu1', nn.ReLU()),\n",
    "    ('hidden2', nn.Linear(4, 4)),\n",
    "    ('relu2', nn.ReLU()),\n",
    "    ('output', nn.Linear(4, 1))\n",
    "]))\n",
    "\n",
    "model3 = nn.Sequential(OrderedDict([\n",
    "    ('hidden1', nn.Linear(2, 8)),\n",
    "    ('relu1', nn.ReLU()),\n",
    "    ('output', nn.Linear(8, 1))\n",
    "]))"
   ]
  },
  {
   "cell_type": "code",
   "execution_count": 47,
   "id": "665ae958",
   "metadata": {},
   "outputs": [
    {
     "name": "stdout",
     "output_type": "stream",
     "text": [
      "Model 1:\n",
      " Sequential(\n",
      "  (hidden1): Linear(in_features=2, out_features=4, bias=True)\n",
      "  (relu1): ReLU()\n",
      "  (output): Linear(in_features=4, out_features=1, bias=True)\n",
      ")\n",
      "\n",
      "Model 2:\n",
      " Sequential(\n",
      "  (hidden1): Linear(in_features=2, out_features=4, bias=True)\n",
      "  (relu1): ReLU()\n",
      "  (hidden2): Linear(in_features=4, out_features=4, bias=True)\n",
      "  (relu2): ReLU()\n",
      "  (output): Linear(in_features=4, out_features=1, bias=True)\n",
      ")\n",
      "\n",
      "Model 3:\n",
      " Sequential(\n",
      "  (hidden1): Linear(in_features=2, out_features=8, bias=True)\n",
      "  (relu1): ReLU()\n",
      "  (output): Linear(in_features=8, out_features=1, bias=True)\n",
      ")\n"
     ]
    }
   ],
   "source": [
    "print(\"Model 1:\\n\", model1)\n",
    "print(\"\\nModel 2:\\n\", model2)\n",
    "print(\"\\nModel 3:\\n\", model3)"
   ]
  },
  {
   "cell_type": "code",
   "execution_count": 48,
   "id": "e26f0d3e",
   "metadata": {},
   "outputs": [
    {
     "name": "stdout",
     "output_type": "stream",
     "text": [
      "\n",
      "Data Input:\n",
      " tensor([[0., 0.],\n",
      "        [0., 1.],\n",
      "        [1., 0.],\n",
      "        [1., 1.]])\n"
     ]
    }
   ],
   "source": [
    "# your code here\n",
    "#data_in = torch.tensor( ...\n",
    "\n",
    "data_in = torch.tensor([\n",
    "    [0, 0],\n",
    "    [0, 1],\n",
    "    [1, 0],\n",
    "    [1, 1]\n",
    "], dtype=torch.float32)\n",
    "print(\"\\nData Input:\\n\", data_in)"
   ]
  },
  {
   "cell_type": "code",
   "execution_count": 49,
   "id": "4fb16bbc",
   "metadata": {},
   "outputs": [
    {
     "name": "stdout",
     "output_type": "stream",
     "text": [
      "\n",
      "Data Target:\n",
      " tensor([[0.],\n",
      "        [1.],\n",
      "        [1.],\n",
      "        [2.]])\n"
     ]
    }
   ],
   "source": [
    "# your code here\n",
    "# data_target = torch.tensor( ...\n",
    "\n",
    "data_target = torch.tensor([\n",
    "    [0],  # 0+0\n",
    "    [1],  # 0+1\n",
    "    [1],  # 1+0\n",
    "    [2]   # 1+1\n",
    "], dtype=torch.float32)\n",
    "print(\"\\nData Target:\\n\", data_target)"
   ]
  },
  {
   "cell_type": "code",
   "execution_count": 50,
   "id": "cde91f6f",
   "metadata": {},
   "outputs": [],
   "source": [
    "# your code here\n",
    "# criterion = \n",
    "# optimizer = \n",
    "# Train the model\n",
    "\n",
    "def train_model(model, data_in, data_target, epochs=2000, lr=0.01):\n",
    "    criterion = nn.MSELoss()                       # Mean Squared Error\n",
    "    optimizer = torch.optim.Adam(model.parameters(), lr=lr)\n",
    "\n",
    "    for epoch in range(epochs):\n",
    "        optimizer.zero_grad()\n",
    "        outputs = model(data_in)                   # forward pass\n",
    "        loss = criterion(outputs, data_target)     # compute loss\n",
    "        loss.backward()                            # backprop\n",
    "        optimizer.step()                           # update weights\n",
    "    return model\n",
    "\n",
    "model1 = train_model(model1, data_in, data_target)\n",
    "model2 = train_model(model2, data_in, data_target)\n",
    "model3 = train_model(model3, data_in, data_target)"
   ]
  },
  {
   "cell_type": "code",
   "execution_count": 51,
   "id": "dff3ec1a",
   "metadata": {},
   "outputs": [
    {
     "name": "stdout",
     "output_type": "stream",
     "text": [
      "\n",
      "Model 1 Predictions (rounded): [0.0, 1.0, 1.0, 2.0]\n",
      "Model 2 Predictions (rounded): [0.0, 1.0, 1.0, 2.0]\n",
      "Model 3 Predictions (rounded): [0.0, 1.0, 1.0, 2.0]\n"
     ]
    }
   ],
   "source": [
    "# your code here\n",
    "# visualize the resuts\n",
    "with torch.no_grad():\n",
    "    pred1 = model1(data_in)\n",
    "    pred2 = model2(data_in)\n",
    "    pred3 = model3(data_in)\n",
    "\n",
    "print(\"\\nModel 1 Predictions (rounded):\", torch.round(pred1).squeeze().tolist())\n",
    "print(\"Model 2 Predictions (rounded):\", torch.round(pred2).squeeze().tolist())\n",
    "print(\"Model 3 Predictions (rounded):\", torch.round(pred3).squeeze().tolist())"
   ]
  },
  {
   "cell_type": "code",
   "execution_count": 52,
   "id": "7871c5bd-e36b-44ef-9a40-a1de1058c21b",
   "metadata": {},
   "outputs": [
    {
     "name": "stdout",
     "output_type": "stream",
     "text": [
      "\n",
      "Model 1 reached 100% accuracy: True\n",
      "Model 2 reached 100% accuracy: True\n",
      "Model 3 reached 100% accuracy: True\n"
     ]
    }
   ],
   "source": [
    "#check accuracy\n",
    "acc1 = torch.equal(torch.round(pred1), data_target)\n",
    "acc2 = torch.equal(torch.round(pred2), data_target)\n",
    "acc3 = torch.equal(torch.round(pred3), data_target)\n",
    "\n",
    "print(\"\\nModel 1 reached 100% accuracy:\", acc1)\n",
    "print(\"Model 2 reached 100% accuracy:\", acc2)\n",
    "print(\"Model 3 reached 100% accuracy:\", acc3)"
   ]
  },
  {
   "cell_type": "code",
   "execution_count": 54,
   "id": "c1a7518b",
   "metadata": {},
   "outputs": [
    {
     "name": "stdout",
     "output_type": "stream",
     "text": [
      "\n",
      "Choosing the best model that reached 100% accuracy.\n",
      "\n",
      "hidden1.weight:\n",
      "tensor([[ 0.7531,  0.8357],\n",
      "        [ 0.0212, -0.2866],\n",
      "        [ 0.4811,  0.2343],\n",
      "        [-0.2764, -0.2168]])\n",
      "\n",
      "hidden1.bias:\n",
      "tensor([ 0.3052, -0.5387,  0.1709,  1.0107])\n",
      "\n",
      "output.weight:\n",
      "tensor([[ 0.9880,  0.4863,  0.1843, -0.6050]])\n",
      "\n",
      "output.bias:\n",
      "tensor([0.2785])\n",
      "\n"
     ]
    }
   ],
   "source": [
    "# your code here\n",
    "# print model wights\n",
    "best_model = None\n",
    "if acc1:\n",
    "    best_model = model1\n",
    "elif acc2:\n",
    "    best_model = model2\n",
    "elif acc3:\n",
    "    best_model = model3\n",
    "\n",
    "if best_model is None:\n",
    "    print(\"\\nNo model reached 100% accuracy, picking Model 1 by default.\\n\")\n",
    "    best_model = model1\n",
    "else:\n",
    "    print(\"\\nChoosing the best model that reached 100% accuracy.\\n\")\n",
    "\n",
    "for name, param in best_model.named_parameters():\n",
    "    print(f\"{name}:\\n{param.data}\\n\")"
   ]
  }
 ],
 "metadata": {
  "kernelspec": {
   "display_name": "Python 3 (ipykernel)",
   "language": "python",
   "name": "python3"
  },
  "language_info": {
   "codemirror_mode": {
    "name": "ipython",
    "version": 3
   },
   "file_extension": ".py",
   "mimetype": "text/x-python",
   "name": "python",
   "nbconvert_exporter": "python",
   "pygments_lexer": "ipython3",
   "version": "3.12.9"
  }
 },
 "nbformat": 4,
 "nbformat_minor": 5
}
